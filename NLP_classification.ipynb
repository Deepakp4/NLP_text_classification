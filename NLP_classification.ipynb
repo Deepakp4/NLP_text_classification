{
 "cells": [
  {
   "cell_type": "code",
   "execution_count": 14,
   "id": "4b78b087",
   "metadata": {},
   "outputs": [
    {
     "data": {
      "text/html": [
       "<div>\n",
       "<style scoped>\n",
       "    .dataframe tbody tr th:only-of-type {\n",
       "        vertical-align: middle;\n",
       "    }\n",
       "\n",
       "    .dataframe tbody tr th {\n",
       "        vertical-align: top;\n",
       "    }\n",
       "\n",
       "    .dataframe thead th {\n",
       "        text-align: right;\n",
       "    }\n",
       "</style>\n",
       "<table border=\"1\" class=\"dataframe\">\n",
       "  <thead>\n",
       "    <tr style=\"text-align: right;\">\n",
       "      <th></th>\n",
       "      <th>Date received</th>\n",
       "      <th>Product</th>\n",
       "      <th>Sub-product</th>\n",
       "      <th>Issue</th>\n",
       "      <th>Sub-issue</th>\n",
       "      <th>Consumer complaint narrative</th>\n",
       "      <th>Company public response</th>\n",
       "      <th>Company</th>\n",
       "      <th>State</th>\n",
       "      <th>ZIP code</th>\n",
       "      <th>Tags</th>\n",
       "      <th>Consumer consent provided?</th>\n",
       "      <th>Submitted via</th>\n",
       "      <th>Date sent to company</th>\n",
       "      <th>Company response to consumer</th>\n",
       "      <th>Timely response?</th>\n",
       "      <th>Consumer disputed?</th>\n",
       "      <th>Complaint ID</th>\n",
       "    </tr>\n",
       "  </thead>\n",
       "  <tbody>\n",
       "    <tr>\n",
       "      <th>0</th>\n",
       "      <td>01/03/23</td>\n",
       "      <td>Credit reporting, credit repair services, or o...</td>\n",
       "      <td>Credit reporting</td>\n",
       "      <td>Problem with a credit reporting company's inve...</td>\n",
       "      <td>Their investigation did not fix an error on yo...</td>\n",
       "      <td>Why do you continue to ignore my request to bl...</td>\n",
       "      <td>None</td>\n",
       "      <td>EQUIFAX, INC.</td>\n",
       "      <td>WA</td>\n",
       "      <td>98404</td>\n",
       "      <td>None</td>\n",
       "      <td>Consent provided</td>\n",
       "      <td>Web</td>\n",
       "      <td>01/03/23</td>\n",
       "      <td>Closed with explanation</td>\n",
       "      <td>Yes</td>\n",
       "      <td>NaN</td>\n",
       "      <td>6386683</td>\n",
       "    </tr>\n",
       "    <tr>\n",
       "      <th>1</th>\n",
       "      <td>01/03/23</td>\n",
       "      <td>Credit reporting, credit repair services, or o...</td>\n",
       "      <td>Credit reporting</td>\n",
       "      <td>Incorrect information on your report</td>\n",
       "      <td>Information belongs to someone else</td>\n",
       "      <td>This is my fourth endeavor to tell you that I ...</td>\n",
       "      <td>None</td>\n",
       "      <td>EQUIFAX, INC.</td>\n",
       "      <td>MD</td>\n",
       "      <td>20746</td>\n",
       "      <td>None</td>\n",
       "      <td>Consent provided</td>\n",
       "      <td>Web</td>\n",
       "      <td>01/03/23</td>\n",
       "      <td>Closed with explanation</td>\n",
       "      <td>Yes</td>\n",
       "      <td>NaN</td>\n",
       "      <td>6386679</td>\n",
       "    </tr>\n",
       "    <tr>\n",
       "      <th>2</th>\n",
       "      <td>01/18/23</td>\n",
       "      <td>Credit reporting, credit repair services, or o...</td>\n",
       "      <td>Credit reporting</td>\n",
       "      <td>Problem with a credit reporting company's inve...</td>\n",
       "      <td>Their investigation did not fix an error on yo...</td>\n",
       "      <td>NaN</td>\n",
       "      <td>Company has responded to the consumer and the ...</td>\n",
       "      <td>Experian Information Solutions Inc.</td>\n",
       "      <td>CA</td>\n",
       "      <td>90744</td>\n",
       "      <td>None</td>\n",
       "      <td>Consent not provided</td>\n",
       "      <td>Web</td>\n",
       "      <td>01/25/23</td>\n",
       "      <td>Closed with explanation</td>\n",
       "      <td>Yes</td>\n",
       "      <td>NaN</td>\n",
       "      <td>6455050</td>\n",
       "    </tr>\n",
       "    <tr>\n",
       "      <th>3</th>\n",
       "      <td>01/03/23</td>\n",
       "      <td>Credit reporting, credit repair services, or o...</td>\n",
       "      <td>Credit reporting</td>\n",
       "      <td>Problem with a credit reporting company's inve...</td>\n",
       "      <td>Investigation took more than 30 days</td>\n",
       "      <td>Despite the multiple previous written requests...</td>\n",
       "      <td>Company has responded to the consumer and the ...</td>\n",
       "      <td>TRANSUNION INTERMEDIATE HOLDINGS, INC.</td>\n",
       "      <td>CA</td>\n",
       "      <td>92677</td>\n",
       "      <td>None</td>\n",
       "      <td>Consent provided</td>\n",
       "      <td>Web</td>\n",
       "      <td>01/03/23</td>\n",
       "      <td>Closed with non-monetary relief</td>\n",
       "      <td>Yes</td>\n",
       "      <td>NaN</td>\n",
       "      <td>6386662</td>\n",
       "    </tr>\n",
       "    <tr>\n",
       "      <th>4</th>\n",
       "      <td>01/03/23</td>\n",
       "      <td>Credit reporting, credit repair services, or o...</td>\n",
       "      <td>Credit reporting</td>\n",
       "      <td>Problem with a credit reporting company's inve...</td>\n",
       "      <td>Their investigation did not fix an error on yo...</td>\n",
       "      <td>NaN</td>\n",
       "      <td>Company has responded to the consumer and the ...</td>\n",
       "      <td>TRANSUNION INTERMEDIATE HOLDINGS, INC.</td>\n",
       "      <td>MD</td>\n",
       "      <td>21117</td>\n",
       "      <td>None</td>\n",
       "      <td>Other</td>\n",
       "      <td>Web</td>\n",
       "      <td>01/03/23</td>\n",
       "      <td>Closed with non-monetary relief</td>\n",
       "      <td>Yes</td>\n",
       "      <td>NaN</td>\n",
       "      <td>6386692</td>\n",
       "    </tr>\n",
       "  </tbody>\n",
       "</table>\n",
       "</div>"
      ],
      "text/plain": [
       "  Date received                                            Product  \\\n",
       "0      01/03/23  Credit reporting, credit repair services, or o...   \n",
       "1      01/03/23  Credit reporting, credit repair services, or o...   \n",
       "2      01/18/23  Credit reporting, credit repair services, or o...   \n",
       "3      01/03/23  Credit reporting, credit repair services, or o...   \n",
       "4      01/03/23  Credit reporting, credit repair services, or o...   \n",
       "\n",
       "        Sub-product                                              Issue  \\\n",
       "0  Credit reporting  Problem with a credit reporting company's inve...   \n",
       "1  Credit reporting               Incorrect information on your report   \n",
       "2  Credit reporting  Problem with a credit reporting company's inve...   \n",
       "3  Credit reporting  Problem with a credit reporting company's inve...   \n",
       "4  Credit reporting  Problem with a credit reporting company's inve...   \n",
       "\n",
       "                                           Sub-issue  \\\n",
       "0  Their investigation did not fix an error on yo...   \n",
       "1                Information belongs to someone else   \n",
       "2  Their investigation did not fix an error on yo...   \n",
       "3               Investigation took more than 30 days   \n",
       "4  Their investigation did not fix an error on yo...   \n",
       "\n",
       "                        Consumer complaint narrative  \\\n",
       "0  Why do you continue to ignore my request to bl...   \n",
       "1  This is my fourth endeavor to tell you that I ...   \n",
       "2                                                NaN   \n",
       "3  Despite the multiple previous written requests...   \n",
       "4                                                NaN   \n",
       "\n",
       "                             Company public response  \\\n",
       "0                                               None   \n",
       "1                                               None   \n",
       "2  Company has responded to the consumer and the ...   \n",
       "3  Company has responded to the consumer and the ...   \n",
       "4  Company has responded to the consumer and the ...   \n",
       "\n",
       "                                  Company State ZIP code  Tags  \\\n",
       "0                           EQUIFAX, INC.    WA    98404  None   \n",
       "1                           EQUIFAX, INC.    MD    20746  None   \n",
       "2     Experian Information Solutions Inc.    CA    90744  None   \n",
       "3  TRANSUNION INTERMEDIATE HOLDINGS, INC.    CA    92677  None   \n",
       "4  TRANSUNION INTERMEDIATE HOLDINGS, INC.    MD    21117  None   \n",
       "\n",
       "  Consumer consent provided? Submitted via Date sent to company  \\\n",
       "0           Consent provided           Web             01/03/23   \n",
       "1           Consent provided           Web             01/03/23   \n",
       "2       Consent not provided           Web             01/25/23   \n",
       "3           Consent provided           Web             01/03/23   \n",
       "4                      Other           Web             01/03/23   \n",
       "\n",
       "      Company response to consumer Timely response?  Consumer disputed?  \\\n",
       "0          Closed with explanation              Yes                 NaN   \n",
       "1          Closed with explanation              Yes                 NaN   \n",
       "2          Closed with explanation              Yes                 NaN   \n",
       "3  Closed with non-monetary relief              Yes                 NaN   \n",
       "4  Closed with non-monetary relief              Yes                 NaN   \n",
       "\n",
       "   Complaint ID  \n",
       "0       6386683  \n",
       "1       6386679  \n",
       "2       6455050  \n",
       "3       6386662  \n",
       "4       6386692  "
      ]
     },
     "execution_count": 14,
     "metadata": {},
     "output_type": "execute_result"
    }
   ],
   "source": [
    "import pandas as pd\n",
    "import numpy as np\n",
    "df=pd.read_csv('C:/Users/Anjal/Downloads/CFPB.csv')\n",
    "df.head()"
   ]
  },
  {
   "cell_type": "code",
   "execution_count": 15,
   "id": "79cbfb25",
   "metadata": {},
   "outputs": [
    {
     "name": "stdout",
     "output_type": "stream",
     "text": [
      "<class 'pandas.core.frame.DataFrame'>\n",
      "RangeIndex: 90449 entries, 0 to 90448\n",
      "Data columns (total 18 columns):\n",
      " #   Column                        Non-Null Count  Dtype  \n",
      "---  ------                        --------------  -----  \n",
      " 0   Date received                 90449 non-null  object \n",
      " 1   Product                       90449 non-null  object \n",
      " 2   Sub-product                   90449 non-null  object \n",
      " 3   Issue                         90449 non-null  object \n",
      " 4   Sub-issue                     90449 non-null  object \n",
      " 5   Consumer complaint narrative  37891 non-null  object \n",
      " 6   Company public response       90449 non-null  object \n",
      " 7   Company                       90449 non-null  object \n",
      " 8   State                         90449 non-null  object \n",
      " 9   ZIP code                      90449 non-null  object \n",
      " 10  Tags                          90449 non-null  object \n",
      " 11  Consumer consent provided?    87258 non-null  object \n",
      " 12  Submitted via                 90449 non-null  object \n",
      " 13  Date sent to company          90449 non-null  object \n",
      " 14  Company response to consumer  90449 non-null  object \n",
      " 15  Timely response?              90449 non-null  object \n",
      " 16  Consumer disputed?            0 non-null      float64\n",
      " 17  Complaint ID                  90449 non-null  int64  \n",
      "dtypes: float64(1), int64(1), object(16)\n",
      "memory usage: 12.4+ MB\n"
     ]
    }
   ],
   "source": [
    "df.info()"
   ]
  },
  {
   "cell_type": "code",
   "execution_count": 16,
   "id": "305c576a",
   "metadata": {},
   "outputs": [],
   "source": [
    "df=df[['Product',\n",
    "       'Sub-product',\n",
    "       'Issue',\n",
    "       'Sub-issue',\n",
    "       'Consumer complaint narrative',\n",
    "       'Company public response',\n",
    "       'Company',\n",
    "       'Consumer consent provided?',\n",
    "       'Timely response?']]"
   ]
  },
  {
   "cell_type": "code",
   "execution_count": 17,
   "id": "e5569407",
   "metadata": {},
   "outputs": [
    {
     "data": {
      "text/html": [
       "<div>\n",
       "<style scoped>\n",
       "    .dataframe tbody tr th:only-of-type {\n",
       "        vertical-align: middle;\n",
       "    }\n",
       "\n",
       "    .dataframe tbody tr th {\n",
       "        vertical-align: top;\n",
       "    }\n",
       "\n",
       "    .dataframe thead th {\n",
       "        text-align: right;\n",
       "    }\n",
       "</style>\n",
       "<table border=\"1\" class=\"dataframe\">\n",
       "  <thead>\n",
       "    <tr style=\"text-align: right;\">\n",
       "      <th></th>\n",
       "      <th>Product</th>\n",
       "      <th>Sub-product</th>\n",
       "      <th>Issue</th>\n",
       "      <th>Sub-issue</th>\n",
       "      <th>Consumer complaint narrative</th>\n",
       "      <th>Company public response</th>\n",
       "      <th>Company</th>\n",
       "      <th>Consumer consent provided?</th>\n",
       "      <th>Timely response?</th>\n",
       "    </tr>\n",
       "  </thead>\n",
       "  <tbody>\n",
       "    <tr>\n",
       "      <th>count</th>\n",
       "      <td>90449</td>\n",
       "      <td>90449</td>\n",
       "      <td>90449</td>\n",
       "      <td>90449</td>\n",
       "      <td>37891</td>\n",
       "      <td>90449</td>\n",
       "      <td>90449</td>\n",
       "      <td>87258</td>\n",
       "      <td>90449</td>\n",
       "    </tr>\n",
       "    <tr>\n",
       "      <th>unique</th>\n",
       "      <td>9</td>\n",
       "      <td>48</td>\n",
       "      <td>77</td>\n",
       "      <td>156</td>\n",
       "      <td>30816</td>\n",
       "      <td>10</td>\n",
       "      <td>1379</td>\n",
       "      <td>5</td>\n",
       "      <td>2</td>\n",
       "    </tr>\n",
       "    <tr>\n",
       "      <th>top</th>\n",
       "      <td>Credit reporting, credit repair services, or o...</td>\n",
       "      <td>Credit reporting</td>\n",
       "      <td>Improper use of your report</td>\n",
       "      <td>Reporting company used your report improperly</td>\n",
       "      <td>I'm really not sure what happened. I have mail...</td>\n",
       "      <td>Company has responded to the consumer and the ...</td>\n",
       "      <td>TRANSUNION INTERMEDIATE HOLDINGS, INC.</td>\n",
       "      <td>Consent not provided</td>\n",
       "      <td>Yes</td>\n",
       "    </tr>\n",
       "    <tr>\n",
       "      <th>freq</th>\n",
       "      <td>69759</td>\n",
       "      <td>69210</td>\n",
       "      <td>25946</td>\n",
       "      <td>19702</td>\n",
       "      <td>186</td>\n",
       "      <td>51752</td>\n",
       "      <td>21846</td>\n",
       "      <td>45896</td>\n",
       "      <td>89928</td>\n",
       "    </tr>\n",
       "  </tbody>\n",
       "</table>\n",
       "</div>"
      ],
      "text/plain": [
       "                                                  Product       Sub-product  \\\n",
       "count                                               90449             90449   \n",
       "unique                                                  9                48   \n",
       "top     Credit reporting, credit repair services, or o...  Credit reporting   \n",
       "freq                                                69759             69210   \n",
       "\n",
       "                              Issue  \\\n",
       "count                         90449   \n",
       "unique                           77   \n",
       "top     Improper use of your report   \n",
       "freq                          25946   \n",
       "\n",
       "                                            Sub-issue  \\\n",
       "count                                           90449   \n",
       "unique                                            156   \n",
       "top     Reporting company used your report improperly   \n",
       "freq                                            19702   \n",
       "\n",
       "                             Consumer complaint narrative  \\\n",
       "count                                               37891   \n",
       "unique                                              30816   \n",
       "top     I'm really not sure what happened. I have mail...   \n",
       "freq                                                  186   \n",
       "\n",
       "                                  Company public response  \\\n",
       "count                                               90449   \n",
       "unique                                                 10   \n",
       "top     Company has responded to the consumer and the ...   \n",
       "freq                                                51752   \n",
       "\n",
       "                                       Company Consumer consent provided?  \\\n",
       "count                                    90449                      87258   \n",
       "unique                                    1379                          5   \n",
       "top     TRANSUNION INTERMEDIATE HOLDINGS, INC.       Consent not provided   \n",
       "freq                                     21846                      45896   \n",
       "\n",
       "       Timely response?  \n",
       "count             90449  \n",
       "unique                2  \n",
       "top                 Yes  \n",
       "freq              89928  "
      ]
     },
     "execution_count": 17,
     "metadata": {},
     "output_type": "execute_result"
    }
   ],
   "source": [
    "df.describe()"
   ]
  },
  {
   "cell_type": "code",
   "execution_count": 18,
   "id": "411306e2",
   "metadata": {},
   "outputs": [
    {
     "data": {
      "text/plain": [
       "Credit reporting, credit repair services, or other personal consumer reports    69759\n",
       "Debt collection                                                                  5417\n",
       "Checking or savings account                                                      4938\n",
       "Credit card or prepaid card                                                      4244\n",
       "Mortgage                                                                         2404\n",
       "Vehicle loan or lease                                                            1295\n",
       "Money transfer, virtual currency, or money service                               1232\n",
       "Student loan                                                                      589\n",
       "Payday loan, title loan, or personal loan                                         571\n",
       "Name: Product, dtype: int64"
      ]
     },
     "execution_count": 18,
     "metadata": {},
     "output_type": "execute_result"
    }
   ],
   "source": [
    "df['Product'].value_counts()"
   ]
  },
  {
   "cell_type": "code",
   "execution_count": 19,
   "id": "6ac0baa8",
   "metadata": {},
   "outputs": [
    {
     "data": {
      "text/plain": [
       "Credit reporting                              69210\n",
       "Checking account                               4145\n",
       "General-purpose credit card or charge card     3353\n",
       "Other debt                                     1643\n",
       "I do not know                                  1426\n",
       "Conventional home mortgage                     1390\n",
       "Loan                                           1159\n",
       "Credit card debt                               1130\n",
       "Medical debt                                    762\n",
       "Store credit card                               527\n",
       "FHA mortgage                                    488\n",
       "Federal student loan servicing                  458\n",
       "Other personal consumer report                  407\n",
       "Mobile or digital wallet                        405\n",
       "Savings account                                 385\n",
       "Domestic (US) money transfer                    383\n",
       "Other banking product or service                329\n",
       "Installment loan                                271\n",
       "Auto debt                                       249\n",
       "VA mortgage                                     212\n",
       "General-purpose prepaid card                    196\n",
       "Personal line of credit                         172\n",
       "International money transfer                    155\n",
       "Virtual currency                                150\n",
       "Other type of mortgage                          148\n",
       "Credit repair services                          142\n",
       "Lease                                           136\n",
       "Home equity loan or line of credit (HELOC)      134\n",
       "Private student loan                            131\n",
       "Government benefit card                         110\n",
       "Payday loan                                     105\n",
       "Payday loan debt                                 88\n",
       "CD (Certificate of Deposit)                      79\n",
       "Mortgage debt                                    66\n",
       "Check cashing service                            40\n",
       "Gift card                                        36\n",
       "Reverse mortgage                                 32\n",
       "Federal student loan debt                        28\n",
       "Debt settlement                                  27\n",
       "Private student loan debt                        25\n",
       "Title loan                                       22\n",
       "Payroll card                                     21\n",
       "Refund anticipation check                        21\n",
       "Traveler's check or cashier's check              18\n",
       "Money order                                      18\n",
       "Foreign currency exchange                        15\n",
       "Student prepaid card                              1\n",
       "Pawn loan                                         1\n",
       "Name: Sub-product, dtype: int64"
      ]
     },
     "execution_count": 19,
     "metadata": {},
     "output_type": "execute_result"
    }
   ],
   "source": [
    "df['Sub-product'].value_counts()"
   ]
  },
  {
   "cell_type": "code",
   "execution_count": 20,
   "id": "f79de477",
   "metadata": {},
   "outputs": [
    {
     "data": {
      "text/plain": [
       "Improper use of your report                                                         25946\n",
       "Incorrect information on your report                                                24979\n",
       "Problem with a credit reporting company's investigation into an existing problem    18290\n",
       "Attempts to collect debt not owed                                                    3017\n",
       "Managing an account                                                                  2906\n",
       "Problem with a purchase shown on your statement                                      1085\n",
       "Trouble during payment process                                                       1080\n",
       "Written notification about debt                                                       929\n",
       "Struggling to pay mortgage                                                            799\n",
       "Getting a credit card                                                                 646\n",
       "Name: Issue, dtype: int64"
      ]
     },
     "execution_count": 20,
     "metadata": {},
     "output_type": "execute_result"
    }
   ],
   "source": [
    "df['Issue'].value_counts().head(10)"
   ]
  },
  {
   "cell_type": "code",
   "execution_count": 21,
   "id": "036dd058",
   "metadata": {},
   "outputs": [
    {
     "data": {
      "text/plain": [
       "TRANSUNION INTERMEDIATE HOLDINGS, INC.    21846\n",
       "EQUIFAX, INC.                             21508\n",
       "Experian Information Solutions Inc.       21086\n",
       "WELLS FARGO & COMPANY                      3283\n",
       "CAPITAL ONE FINANCIAL CORPORATION          1313\n",
       "BANK OF AMERICA, NATIONAL ASSOCIATION      1174\n",
       "JPMORGAN CHASE & CO.                       1163\n",
       "CITIBANK, N.A.                              785\n",
       "Bread Financial Holdings, Inc.              664\n",
       "SYNCHRONY FINANCIAL                         585\n",
       "Name: Company, dtype: int64"
      ]
     },
     "execution_count": 21,
     "metadata": {},
     "output_type": "execute_result"
    }
   ],
   "source": [
    "df['Company'].value_counts().head(10)"
   ]
  },
  {
   "cell_type": "code",
   "execution_count": 22,
   "id": "601954cd",
   "metadata": {},
   "outputs": [],
   "source": [
    "df.dropna(subset=['Consumer complaint narrative'], inplace=True)\n"
   ]
  },
  {
   "cell_type": "code",
   "execution_count": 23,
   "id": "9a785dd2",
   "metadata": {},
   "outputs": [],
   "source": [
    "from sklearn.model_selection import train_test_split\n",
    "from sklearn.feature_extraction.text import TfidfVectorizer\n",
    "from sklearn.pipeline import Pipeline \n",
    "from sklearn.svm import LinearSVC\n",
    "from sklearn.naive_bayes import MultinomialNB, ComplementNB"
   ]
  },
  {
   "cell_type": "code",
   "execution_count": 24,
   "id": "caa97fc9",
   "metadata": {},
   "outputs": [],
   "source": [
    "x=df['Consumer complaint narrative']\n",
    "y=df['Product']"
   ]
  },
  {
   "cell_type": "code",
   "execution_count": 25,
   "id": "6386c129",
   "metadata": {},
   "outputs": [
    {
     "name": "stdout",
     "output_type": "stream",
     "text": [
      "0        Why do you continue to ignore my request to bl...\n",
      "1        This is my fourth endeavor to tell you that I ...\n",
      "3        Despite the multiple previous written requests...\n",
      "5        I have been receiving phone calls from debt co...\n",
      "6        I have disputed the referenced accounts to the...\n",
      "                               ...                        \n",
      "90393    In accordance with the Fair Credit Reporting a...\n",
      "90396    Hello, I have received numerous calls from the...\n",
      "90414    Date : XX/XX/2022 Amount : XXXX Account Status...\n",
      "90436    Helper in need of help! \\nHello, I am in dire ...\n",
      "90446    Last year I got a solar system for my house th...\n",
      "Name: Consumer complaint narrative, Length: 37891, dtype: object\n"
     ]
    }
   ],
   "source": [
    "print(x)\n"
   ]
  },
  {
   "cell_type": "code",
   "execution_count": 26,
   "id": "0d83d257",
   "metadata": {},
   "outputs": [],
   "source": [
    "X_train,X_test,Y_train,Y_test=train_test_split(x,y,test_size=.2,random_state=42)"
   ]
  },
  {
   "cell_type": "code",
   "execution_count": 27,
   "id": "2483532b",
   "metadata": {},
   "outputs": [
    {
     "data": {
      "text/plain": [
       "54596    Credit reporting, credit repair services, or o...\n",
       "10039    Credit reporting, credit repair services, or o...\n",
       "59876    Credit reporting, credit repair services, or o...\n",
       "46332                                      Debt collection\n",
       "454                            Checking or savings account\n",
       "                               ...                        \n",
       "33154    Credit reporting, credit repair services, or o...\n",
       "11261    Credit reporting, credit repair services, or o...\n",
       "22017                                         Student loan\n",
       "1435     Credit reporting, credit repair services, or o...\n",
       "31084                          Credit card or prepaid card\n",
       "Name: Product, Length: 30312, dtype: object"
      ]
     },
     "execution_count": 27,
     "metadata": {},
     "output_type": "execute_result"
    }
   ],
   "source": [
    "Y_train\n"
   ]
  },
  {
   "cell_type": "code",
   "execution_count": 28,
   "id": "ce1c4d74",
   "metadata": {},
   "outputs": [],
   "source": [
    "pipe_svc=Pipeline([('tfidf',TfidfVectorizer(stop_words='english',ngram_range=(1,3))),\n",
    "                  ('clf',LinearSVC())])\n",
    "pipe_CNB=Pipeline([('tfidf',TfidfVectorizer(stop_words='english',ngram_range=(1,3))),\n",
    "                  ('clf',ComplementNB())])\n",
    "pipe_MNB=Pipeline([('tfidf',TfidfVectorizer(stop_words='english',ngram_range=(1,3))),\n",
    "                  ('clf',MultinomialNB())])"
   ]
  },
  {
   "cell_type": "code",
   "execution_count": 29,
   "id": "e1919d2a",
   "metadata": {},
   "outputs": [],
   "source": [
    "model_svc=pipe_svc.fit(X_train,Y_train)\n",
    "model_CNB=pipe_CNB.fit(X_train,Y_train)\n",
    "model_MNB=pipe_MNB.fit(X_train,Y_train)"
   ]
  },
  {
   "cell_type": "code",
   "execution_count": 30,
   "id": "c8f8455d",
   "metadata": {},
   "outputs": [],
   "source": [
    "predict_svc=model_svc.predict(X_test)\n",
    "predict_CNB=model_CNB.predict(X_test)\n",
    "predict_MNB=model_MNB.predict(X_test)"
   ]
  },
  {
   "cell_type": "code",
   "execution_count": 31,
   "id": "664f76d5",
   "metadata": {},
   "outputs": [
    {
     "name": "stdout",
     "output_type": "stream",
     "text": [
      "0.9242644148304525\n",
      "0.762765536350442\n",
      "0.7049742710120068\n"
     ]
    }
   ],
   "source": [
    "from sklearn.metrics import accuracy_score,classification_report\n",
    "Acc_scv=accuracy_score(Y_test,predict_svc)\n",
    "Acc_CNB=accuracy_score(Y_test,predict_CNB)\n",
    "Acc_MNB=accuracy_score(Y_test,predict_MNB)\n",
    "print(Acc_scv)\n",
    "print(Acc_CNB)\n",
    "print(Acc_MNB)"
   ]
  },
  {
   "cell_type": "code",
   "execution_count": 32,
   "id": "55e3c742",
   "metadata": {},
   "outputs": [
    {
     "data": {
      "text/plain": [
       "array(['Vehicle loan or lease'], dtype=object)"
      ]
     },
     "execution_count": 32,
     "metadata": {},
     "output_type": "execute_result"
    }
   ],
   "source": [
    "text='I dont have money to pay my loan which i have taken for my car '\n",
    "model_svc.predict([text])\n"
   ]
  },
  {
   "cell_type": "code",
   "execution_count": 33,
   "id": "2b69dc1d",
   "metadata": {},
   "outputs": [
    {
     "name": "stdout",
     "output_type": "stream",
     "text": [
      "                                                                              precision    recall  f1-score   support\n",
      "\n",
      "                                                 Checking or savings account       0.81      0.89      0.85       569\n",
      "                                                 Credit card or prepaid card       0.83      0.78      0.80       515\n",
      "Credit reporting, credit repair services, or other personal consumer reports       0.96      0.98      0.97      5274\n",
      "                                                             Debt collection       0.85      0.78      0.81       507\n",
      "                          Money transfer, virtual currency, or money service       0.83      0.47      0.60       142\n",
      "                                                                    Mortgage       0.89      0.91      0.90       266\n",
      "                                   Payday loan, title loan, or personal loan       0.70      0.30      0.42        77\n",
      "                                                                Student loan       0.95      0.79      0.86        72\n",
      "                                                       Vehicle loan or lease       0.80      0.76      0.78       157\n",
      "\n",
      "                                                                    accuracy                           0.92      7579\n",
      "                                                                   macro avg       0.85      0.74      0.78      7579\n",
      "                                                                weighted avg       0.92      0.92      0.92      7579\n",
      "\n"
     ]
    }
   ],
   "source": [
    "print(classification_report(Y_test,predict_svc))"
   ]
  },
  {
   "cell_type": "code",
   "execution_count": 36,
   "id": "3c000885",
   "metadata": {},
   "outputs": [
    {
     "name": "stdout",
     "output_type": "stream",
     "text": [
      "Confusion Matrix - LinearSVC:\n",
      "[[ 508   29   13    4    7    4    0    0    4]\n",
      " [  38  402   60    5    6    2    1    0    1]\n",
      " [   9   24 5191   39    0    3    3    2    3]\n",
      " [   1    6   84  396    1    5    2    1   11]\n",
      " [  55    6    7    2   67    3    1    0    1]\n",
      " [   6    3    9    4    0  242    0    0    2]\n",
      " [   9    9   16    9    0    5   23    0    6]\n",
      " [   1    2    6    4    0    1    0   57    1]\n",
      " [   1    6   15    5    0    8    3    0  119]]\n"
     ]
    }
   ],
   "source": [
    "from sklearn.metrics import confusion_matrix\n",
    "\n",
    "# Example: Confusion matrix for LinearSVC model\n",
    "conf_matrix_svc = confusion_matrix(Y_test, predict_svc)\n",
    "print(\"Confusion Matrix - LinearSVC:\")\n",
    "print(conf_matrix_svc)\n"
   ]
  },
  {
   "cell_type": "code",
   "execution_count": 38,
   "id": "384e9dc6",
   "metadata": {},
   "outputs": [
    {
     "name": "stdout",
     "output_type": "stream",
     "text": [
      "Classification Report - Ensemble:\n",
      "                                                                              precision    recall  f1-score   support\n",
      "\n",
      "                                                 Checking or savings account       0.84      0.47      0.60       569\n",
      "                                                 Credit card or prepaid card       0.95      0.13      0.23       515\n",
      "Credit reporting, credit repair services, or other personal consumer reports       0.75      1.00      0.86      5274\n",
      "                                                             Debt collection       0.97      0.12      0.21       507\n",
      "                          Money transfer, virtual currency, or money service       0.92      0.08      0.15       142\n",
      "                                                                    Mortgage       0.95      0.30      0.45       266\n",
      "                                   Payday loan, title loan, or personal loan       1.00      0.01      0.03        77\n",
      "                                                                Student loan       1.00      0.10      0.18        72\n",
      "                                                       Vehicle loan or lease       0.92      0.08      0.14       157\n",
      "\n",
      "                                                                    accuracy                           0.76      7579\n",
      "                                                                   macro avg       0.92      0.25      0.32      7579\n",
      "                                                                weighted avg       0.81      0.76      0.70      7579\n",
      "\n"
     ]
    }
   ],
   "source": [
    "from sklearn.ensemble import VotingClassifier\n",
    "\n",
    "# Example: Ensemble method with LinearSVC, ComplementNB, and MultinomialNB\n",
    "ensemble_model = VotingClassifier([('svc', pipe_svc), ('cnb', pipe_CNB), ('mnb', pipe_MNB)], voting='hard')\n",
    "ensemble_model.fit(X_train, Y_train)\n",
    "predict_ensemble = ensemble_model.predict(X_test)\n",
    "print(\"Classification Report - Ensemble:\")\n",
    "print(classification_report(Y_test, predict_ensemble))"
   ]
  },
  {
   "cell_type": "code",
   "execution_count": null,
   "id": "f6b6e478",
   "metadata": {},
   "outputs": [],
   "source": []
  }
 ],
 "metadata": {
  "kernelspec": {
   "display_name": "Python 3 (ipykernel)",
   "language": "python",
   "name": "python3"
  },
  "language_info": {
   "codemirror_mode": {
    "name": "ipython",
    "version": 3
   },
   "file_extension": ".py",
   "mimetype": "text/x-python",
   "name": "python",
   "nbconvert_exporter": "python",
   "pygments_lexer": "ipython3",
   "version": "3.9.13"
  }
 },
 "nbformat": 4,
 "nbformat_minor": 5
}
